{
 "cells": [
  {
   "cell_type": "code",
   "execution_count": 34,
   "metadata": {},
   "outputs": [],
   "source": [
    "from transformers import pipeline, set_seed\n",
    "import re"
   ]
  },
  {
   "cell_type": "code",
   "execution_count": 35,
   "metadata": {},
   "outputs": [],
   "source": [
    "def extract_after_first_string(text, first_string):\n",
    "    pattern = re.escape(first_string) + r\"(.+)\"\n",
    "    match = re.search(pattern, text, re.DOTALL)  # Add re.DOTALL flag to match newline characters\n",
    "    if match:\n",
    "        extracted_text = match.group(1)\n",
    "        return extracted_text\n",
    "    return None\n",
    "\n",
    "def gpt2_generate(command):\n",
    "    match = re.match(r\"!gpt2_generate:(.+)\", command)\n",
    "    content = match.group(1)\n",
    "\n",
    "    generator = pipeline('text-generation', model='gpt2')\n",
    "    set_seed(42)\n",
    "    gpt_output = generator(content, max_length=80, num_return_sequences=1)\n",
    "\n",
    "    generated_text = gpt_output[0]['generated_text']  # Access the generated text from the output\n",
    "    return generated_text\n",
    "    # return extract_after_first_string(generated_text, content)\n",
    "\n",
    "\n"
   ]
  },
  {
   "cell_type": "code",
   "execution_count": 36,
   "metadata": {},
   "outputs": [
    {
     "name": "stderr",
     "output_type": "stream",
     "text": [
      "All model checkpoint layers were used when initializing TFGPT2LMHeadModel.\n",
      "\n",
      "All the layers of TFGPT2LMHeadModel were initialized from the model checkpoint at gpt2.\n",
      "If your task is similar to the task the model of the checkpoint was trained on, you can already use TFGPT2LMHeadModel for predictions without further training.\n",
      "Setting `pad_token_id` to `eos_token_id`:50256 for open-end generation.\n"
     ]
    },
    {
     "name": "stdout",
     "output_type": "stream",
     "text": [
      " make me a poem about a 1997 honda accordion accident. The whole series is all on the Internet at http://puu.sh/z6sKM. In another post about the incident, she states that she found a text message from one of her friends who is also an accordion player in a room. She says that the text wasn't about the accordion and that he\n"
     ]
    }
   ],
   "source": [
    "print(gpt2_generate(\"!gpt2_generate: make me a poem about a 1997 honda accord\"))"
   ]
  },
  {
   "cell_type": "code",
   "execution_count": 1,
   "metadata": {},
   "outputs": [
    {
     "name": "stderr",
     "output_type": "stream",
     "text": [
      "/usr/lib/python3/dist-packages/requests/__init__.py:89: RequestsDependencyWarning: urllib3 (1.26.14) or chardet (3.0.4) doesn't match a supported version!\n",
      "  warnings.warn(\"urllib3 ({}) or chardet ({}) doesn't match a supported \"\n",
      "2023-06-01 15:06:25.004213: I tensorflow/tsl/cuda/cudart_stub.cc:28] Could not find cuda drivers on your machine, GPU will not be used.\n",
      "2023-06-01 15:06:25.216854: I tensorflow/tsl/cuda/cudart_stub.cc:28] Could not find cuda drivers on your machine, GPU will not be used.\n",
      "2023-06-01 15:06:25.218269: I tensorflow/core/platform/cpu_feature_guard.cc:182] This TensorFlow binary is optimized to use available CPU instructions in performance-critical operations.\n",
      "To enable the following instructions: AVX2 FMA, in other operations, rebuild TensorFlow with the appropriate compiler flags.\n",
      "2023-06-01 15:06:26.045959: W tensorflow/compiler/tf2tensorrt/utils/py_utils.cc:38] TF-TRT Warning: Could not find TensorRT\n",
      "[nltk_data] Downloading package wordnet to /home/jj/nltk_data...\n",
      "[nltk_data]   Package wordnet is already up-to-date!\n",
      "[nltk_data] Downloading package omw to /home/jj/nltk_data...\n",
      "[nltk_data]   Package omw is already up-to-date!\n",
      "[nltk_data] Downloading package omw-1.4 to /home/jj/nltk_data...\n",
      "[nltk_data]   Package omw-1.4 is already up-to-date!\n",
      "100%|██████████| 60001/60001 [03:03<00:00, 327.57it/s]\n",
      "2023-06-01 15:09:31.617102: E tensorflow/compiler/xla/stream_executor/cuda/cuda_driver.cc:266] failed call to cuInit: CUDA_ERROR_NO_DEVICE: no CUDA-capable device is detected\n",
      "2023-06-01 15:09:31.673809: I tensorflow/core/common_runtime/executor.cc:1197] [/device:CPU:0] (DEBUG INFO) Executor start aborting (this does not indicate an error and you can ignore this message): INVALID_ARGUMENT: You must feed a value for placeholder tensor 'Placeholder/_0' with dtype string and shape [259,3]\n",
      "\t [[{{node Placeholder/_0}}]]\n"
     ]
    },
    {
     "name": "stdout",
     "output_type": "stream",
     "text": [
      "Model: \"model\"\n",
      "_________________________________________________________________\n",
      " Layer (type)                Output Shape              Param #   \n",
      "=================================================================\n",
      " input_1 (InputLayer)        [(None, 9)]               0         \n",
      "                                                                 \n",
      " embedding (Embedding)       (None, 9, 15)             75000     \n",
      "                                                                 \n",
      " lstm (LSTM)                 (None, 15)                1860      \n",
      "                                                                 \n",
      " dense (Dense)               (None, 5000)              80000     \n",
      "                                                                 \n",
      " softmax (Softmax)           (None, 5000)              0         \n",
      "                                                                 \n",
      "=================================================================\n",
      "Total params: 156,860\n",
      "Trainable params: 156,860\n",
      "Non-trainable params: 0\n",
      "_________________________________________________________________\n",
      "Epoch 1/20\n"
     ]
    },
    {
     "name": "stderr",
     "output_type": "stream",
     "text": [
      "/home/jj/.local/lib/python3.8/site-packages/tensorflow/python/data/ops/structured_function.py:254: UserWarning: Even though the `tf.config.experimental_run_functions_eagerly` option is set, this option does not apply to tf.data functions. To force eager execution of tf.data functions, please use `tf.data.experimental.enable_debug_mode()`.\n",
      "  warnings.warn(\n",
      "2023-06-01 15:09:32.658961: I tensorflow/core/common_runtime/executor.cc:1197] [/device:CPU:0] (DEBUG INFO) Executor start aborting (this does not indicate an error and you can ignore this message): INVALID_ARGUMENT: You must feed a value for placeholder tensor 'Placeholder/_0' with dtype string and shape [259,3]\n",
      "\t [[{{node Placeholder/_0}}]]\n"
     ]
    },
    {
     "name": "stdout",
     "output_type": "stream",
     "text": [
      "259/259 [==============================] - 12s 46ms/step - loss: 2.3981 - accuracy: 0.6628\n",
      "Epoch 2/20\n",
      "259/259 [==============================] - 12s 46ms/step - loss: 1.3839 - accuracy: 0.7014\n",
      "Epoch 3/20\n",
      "259/259 [==============================] - 12s 46ms/step - loss: 1.1084 - accuracy: 0.7439\n",
      "Epoch 4/20\n",
      "259/259 [==============================] - 12s 46ms/step - loss: 1.0902 - accuracy: 0.7375\n",
      "Epoch 5/20\n",
      "259/259 [==============================] - 12s 45ms/step - loss: 1.0589 - accuracy: 0.7465\n",
      "Epoch 6/20\n",
      "259/259 [==============================] - 12s 46ms/step - loss: 1.1050 - accuracy: 0.7400\n",
      "Epoch 7/20\n",
      "259/259 [==============================] - 12s 46ms/step - loss: 0.9985 - accuracy: 0.7490\n",
      "Epoch 8/20\n",
      "259/259 [==============================] - 12s 46ms/step - loss: 0.9127 - accuracy: 0.7465\n",
      "Epoch 9/20\n",
      "259/259 [==============================] - 12s 45ms/step - loss: 0.8361 - accuracy: 0.7619\n",
      "Epoch 10/20\n",
      "259/259 [==============================] - 12s 45ms/step - loss: 0.7806 - accuracy: 0.7748\n",
      "Epoch 11/20\n",
      "259/259 [==============================] - 12s 45ms/step - loss: 0.9322 - accuracy: 0.7632\n",
      "Epoch 12/20\n",
      "259/259 [==============================] - 12s 45ms/step - loss: 0.8432 - accuracy: 0.7696\n",
      "Epoch 13/20\n",
      "259/259 [==============================] - 12s 45ms/step - loss: 0.8550 - accuracy: 0.7761\n",
      "Epoch 14/20\n",
      "259/259 [==============================] - 12s 45ms/step - loss: 0.7083 - accuracy: 0.7967\n",
      "Epoch 15/20\n",
      "259/259 [==============================] - 12s 46ms/step - loss: 0.6684 - accuracy: 0.8057\n",
      "Epoch 16/20\n",
      "259/259 [==============================] - 12s 45ms/step - loss: 0.5877 - accuracy: 0.8185\n",
      "Epoch 17/20\n",
      "259/259 [==============================] - 12s 45ms/step - loss: 0.6209 - accuracy: 0.7941\n",
      "Epoch 18/20\n",
      "259/259 [==============================] - 12s 46ms/step - loss: 0.5861 - accuracy: 0.8134\n",
      "Epoch 19/20\n",
      "259/259 [==============================] - 12s 45ms/step - loss: 0.5031 - accuracy: 0.8288\n",
      "Epoch 20/20\n",
      "259/259 [==============================] - 13s 48ms/step - loss: 0.5899 - accuracy: 0.8172\n"
     ]
    }
   ],
   "source": [
    "from crawler import crawl\n",
    "from search import tfidf_search, wn_search, train\n",
    "from generator import content_generator, gpt2_generate"
   ]
  },
  {
   "cell_type": "code",
   "execution_count": 8,
   "metadata": {},
   "outputs": [
    {
     "name": "stdout",
     "output_type": "stream",
     "text": [
      "term:\n",
      "1997 honda\n",
      "words:\n",
      "['1997', 'honda']\n",
      "documento:\n",
      "115\n",
      "resultado:\n",
      "{115: 0.04272502907096549}\n",
      "documento:\n",
      "116\n",
      "resultado:\n",
      "{115: 0.04272502907096549, 116: 0.038007843656181144}\n",
      "documento:\n",
      "117\n",
      "resultado:\n",
      "{115: 0.04272502907096549, 116: 0.038007843656181144, 117: 0.023636700230816318}\n",
      "documento:\n",
      "119\n",
      "resultado:\n",
      "{115: 0.04272502907096549, 116: 0.038007843656181144, 117: 0.023636700230816318, 119: 0.03097327936123763}\n",
      "documento:\n",
      "120\n",
      "resultado:\n",
      "{115: 0.04272502907096549, 116: 0.038007843656181144, 117: 0.023636700230816318, 119: 0.03097327936123763, 120: 0.05352453492666733}\n",
      "documento:\n",
      "124\n",
      "resultado:\n",
      "{115: 0.04272502907096549, 116: 0.038007843656181144, 117: 0.023636700230816318, 119: 0.03097327936123763, 120: 0.05352453492666733, 124: 0.004993671919551646}\n",
      "documento:\n",
      "125\n",
      "resultado:\n",
      "{115: 0.04272502907096549, 116: 0.038007843656181144, 117: 0.023636700230816318, 119: 0.03097327936123763, 120: 0.05352453492666733, 124: 0.004993671919551646, 125: 0.056552819230880534}\n",
      "documento:\n",
      "126\n",
      "resultado:\n",
      "{115: 0.04272502907096549, 116: 0.038007843656181144, 117: 0.023636700230816318, 119: 0.03097327936123763, 120: 0.05352453492666733, 124: 0.004993671919551646, 125: 0.056552819230880534, 126: 0.04164338659626629}\n",
      "documento:\n",
      "127\n",
      "resultado:\n",
      "{115: 0.04272502907096549, 116: 0.038007843656181144, 117: 0.023636700230816318, 119: 0.03097327936123763, 120: 0.05352453492666733, 124: 0.004993671919551646, 125: 0.056552819230880534, 126: 0.04164338659626629, 127: 0.02513674160956617}\n",
      "documento:\n",
      "128\n",
      "resultado:\n",
      "{115: 0.04272502907096549, 116: 0.038007843656181144, 117: 0.023636700230816318, 119: 0.03097327936123763, 120: 0.05352453492666733, 124: 0.004993671919551646, 125: 0.056552819230880534, 126: 0.04164338659626629, 127: 0.02513674160956617, 128: 0.04756888239544644}\n",
      "documento:\n",
      "129\n",
      "resultado:\n",
      "{115: 0.04272502907096549, 116: 0.038007843656181144, 117: 0.023636700230816318, 119: 0.03097327936123763, 120: 0.05352453492666733, 124: 0.004993671919551646, 125: 0.056552819230880534, 126: 0.04164338659626629, 127: 0.02513674160956617, 128: 0.04756888239544644, 129: 0.08597022700311067}\n",
      "documento:\n",
      "130\n",
      "resultado:\n",
      "{115: 0.04272502907096549, 116: 0.038007843656181144, 117: 0.023636700230816318, 119: 0.03097327936123763, 120: 0.05352453492666733, 124: 0.004993671919551646, 125: 0.056552819230880534, 126: 0.04164338659626629, 127: 0.02513674160956617, 128: 0.04756888239544644, 129: 0.08597022700311067, 130: 0.09247258617726103}\n",
      "documento:\n",
      "185\n",
      "resultado:\n",
      "{115: 0.04272502907096549, 116: 0.038007843656181144, 117: 0.023636700230816318, 119: 0.03097327936123763, 120: 0.05352453492666733, 124: 0.004993671919551646, 125: 0.056552819230880534, 126: 0.04164338659626629, 127: 0.02513674160956617, 128: 0.04756888239544644, 129: 0.08597022700311067, 130: 0.09247258617726103, 185: 0.0061020440975114556}\n",
      "documento:\n",
      "207\n",
      "resultado:\n",
      "{115: 0.04272502907096549, 116: 0.038007843656181144, 117: 0.023636700230816318, 119: 0.03097327936123763, 120: 0.05352453492666733, 124: 0.004993671919551646, 125: 0.056552819230880534, 126: 0.04164338659626629, 127: 0.02513674160956617, 128: 0.04756888239544644, 129: 0.08597022700311067, 130: 0.09247258617726103, 185: 0.0061020440975114556, 207: 0.0024530643501297477}\n",
      "documento:\n",
      "222\n",
      "resultado:\n",
      "{115: 0.04272502907096549, 116: 0.038007843656181144, 117: 0.023636700230816318, 119: 0.03097327936123763, 120: 0.05352453492666733, 124: 0.004993671919551646, 125: 0.056552819230880534, 126: 0.04164338659626629, 127: 0.02513674160956617, 128: 0.04756888239544644, 129: 0.08597022700311067, 130: 0.09247258617726103, 185: 0.0061020440975114556, 207: 0.0024530643501297477, 222: 0.0045672152919441255}\n",
      "documento:\n",
      "47\n",
      "resultado:\n",
      "{115: 0.04272502907096549, 116: 0.038007843656181144, 117: 0.023636700230816318, 119: 0.03097327936123763, 120: 0.05352453492666733, 124: 0.004993671919551646, 125: 0.056552819230880534, 126: 0.04164338659626629, 127: 0.02513674160956617, 128: 0.04756888239544644, 129: 0.08597022700311067, 130: 0.09247258617726103, 185: 0.0061020440975114556, 207: 0.0024530643501297477, 222: 0.0045672152919441255, 47: 0.19860828121898574}\n",
      "result:\n",
      "[(0.19860828121898574, 47)]\n",
      "('https://www1.folha.uol.com.br/mercado/recall/', 'Recall | Folha\\n\\n\\n\\n\\n\\n\\n\\n\\n\\n\\n\\n\\n\\n\\n\\n\\n\\n\\n\\n\\n\\n\\n\\n\\n\\n\\n\\n\\n\\n\\n\\n\\n\\n\\n\\n\\n\\n\\n\\n\\n\\n\\n\\n\\n\\n\\n\\n\\n\\n\\n\\n\\n\\n\\n\\n\\n\\n\\n\\n\\n\\n\\n\\n\\n\\n\\n\\n\\n\\n\\n\\n\\n\\n\\n\\n\\n\\n\\n\\n\\n\\n\\n      Acesse seus artigos salvos em \\nMinha Folha,  sua área personalizada\\n    \\n\\n\\n\\n\\n\\n\\n      Acesse os artigos do assunto seguido na \\nMinha Folha, sua área personalizada\\n    \\n\\n\\n\\n\\n\\n\\n\\n\\n\\n\\n\\n\\n\\n\\n\\n\\n\\n\\n\\nAbrir sidebar menu\\n\\n\\n\\nMenu\\n\\n\\n                Assine\\n              \\n\\n\\n\\n\\n\\n\\n\\n\\n\\n\\n\\n\\n\\n\\n\\n\\n\\n\\n\\n\\n\\nIr para o conteúdo [1]\\n\\n\\nIr para o menu [2]\\n\\n\\nIr para o rodapé [3]\\n\\n\\n\\n\\n\\n\\n\\n\\n\\n\\n\\n\\n\\n\\n\\n\\n\\n\\n\\n\\n\\n\\n\\n\\n\\n\\nEntrar\\n\\n\\n\\n\\n\\n\\n\\n\\n\\nEntrar\\n\\n|\\nSair\\n\\n\\n\\n\\n\\n\\n\\n\\n\\n\\n\\n\\n\\n\\n\\n\\n\\n\\n\\nMinha Folha\\n\\n\\nArtigos salvos\\n\\n\\nNewsletters\\n\\n\\nAssinatura\\n\\n\\nEditar Perfil\\n\\n\\nSenha e Conta\\n\\n\\nAtendimento\\n\\n\\nSair\\n\\n\\n\\n\\n\\n\\n\\n\\n\\n\\nBuscar\\n\\n\\n\\n\\n\\n\\n\\n\\n\\n\\n\\nPublicidade recall\\n\\n\\n\\n\\n\\n\\n\\n\\n\\n\\n\\n\\n\\n\\nBusca\\n\\n\\nBuscar nos sites da Folha de S.Paulo\\n\\n\\n\\n\\n\\n\\n\\n\\n\\n\\n\\n\\n\\n\\n\\n\\n\\n\\n\\n\\n\\n\\n\\nOferta Especial: R$ 1,90 no 1º mês\\n\\n\\n\\nAssine a Folha\\n\\n\\n\\n\\n\\n\\n\\n\\n\\n\\n\\n\\n\\n\\n\\n\\n\\n\\n\\n\\n\\nÚltimas notícias\\nGostaria de receber as principais notícias do Brasil e do mundo?\\n\\n\\n\\nNão, obrigado\\n\\n\\nSim, aceito\\n\\n\\n\\n\\n\\n\\n\\n\\n\\n\\n\\n\\n\\n\\n\\n\\n\\n\\n\\n\\n\\n\\n\\n\\n            Assine\\n          \\n\\n\\nFechar sidebar menu\\n\\n\\n\\n\\n\\n\\n\\n\\n\\n\\n\\n\\n\\n\\n\\n\\n\\n\\n\\n              Minha Folha\\n            \\n\\n\\n\\n              Artigos salvos\\n            \\n\\n\\n\\n              Newsletters\\n            \\n\\n\\n\\n             Assinatura\\n            \\n\\n\\n\\n              Editar perfil\\n            \\n\\n\\n\\n             Senha e conta\\n            \\n\\n\\n\\n              Atendimento\\n            \\n\\n\\nSair\\n\\n\\n\\n\\n\\n\\n\\n\\n\\n\\n\\n\\n             Edição Folha\\n           \\n\\n\\n\\n             Últimas\\n           \\n\\n\\n\\n             Textos da edição folha\\n           \\n\\n\\n\\n\\n\\n\\n\\n          Clube Folha\\n        \\n\\n\\n\\n\\n\\n\\n\\nBem-estar\\nEducação\\nGastronomia\\nLazer e Cultura\\nTurismo\\n\\n\\n\\n\\n\\n\\n\\n\\n          opinião\\n        \\n\\n\\n\\n\\n\\n\\n\\nEditoriais\\nCharges\\nTendências/Debates\\n\\n\\n\\n\\n\\n          colunas e blogs\\n        \\n\\n\\n\\n\\n\\n\\n\\nColunas\\nBlogs\\nRotativas\\n\\n\\n\\n\\n\\n          mais populares\\n        \\n\\n\\n\\n\\n\\n\\n\\nMais lidas\\nMais comentadas\\n\\n\\n\\nacervo folha\\n\\n\\nfotografia\\n\\n\\n\\n\\n\\n\\n\\n          política\\n        \\n\\n\\n\\n\\n\\n\\n\\nLula\\nJair Bolsonaro\\npainel\\nEntrevista da 2ª\\n\\n\\n\\n\\n\\n          economia\\n        \\n\\n\\n\\n\\n\\n\\n\\nPrevidência\\nInvestimentos\\nagrofolha\\npainel s.a.\\nMercado Imobiliário\\nFolha ESG\\nstartups & fintechs\\nmpme\\nPublicidade Legal\\nRecall\\n\\n\\n\\n\\n\\n          cotidiano\\n        \\n\\n\\n\\n\\n\\n\\n\\neducação\\nrio de janeiro\\nloterias\\n\\n\\n\\n\\n\\n          mundo\\n        \\n\\n\\n\\n\\n\\n\\n\\ncoreia do norte\\nchina\\ngoverno biden\\nvenezuela\\nOnde se fala português\\n\\n\\n\\nsaúde\\n\\n\\nequilíbrio\\n\\n\\n\\n\\n          ciência\\n        \\n\\n\\n\\n\\n\\n\\n\\nAmbiente\\n\\n\\n\\ncovid\\n\\n\\n\\n\\n          ilustrada\\n        \\n\\n\\n\\n\\n\\n\\n\\nmônica bergamo\\nquadrinhos\\npainel das letras\\noscar\\nEscuta Aqui\\ncoleções folha\\n\\n\\n\\n\\nilustríssima\\n\\n\\n\\n\\n          esporte\\n        \\n\\n\\n\\n\\n\\n\\n\\ncampeonato brasileiro\\nFutebol Internacional\\n\\n\\n\\npodcasts\\n\\n\\nindependência, 200\\n\\n\\n\\n\\n          F5\\n        \\n\\n\\n\\n\\n\\n\\n\\nBichos\\ncelebridades\\nhoróscopo\\n\\n\\n\\nFolha Social+\\n\\n\\nguia folha\\n\\n\\nturismo\\n\\n\\nfolhinha\\n\\n\\ncomida\\n\\n\\nespeciais\\n\\n\\ndeltafolha\\n\\n\\nweb stories\\n\\n\\ndias melhores\\n\\n\\nSeminários Folha\\n\\n\\nempreendedor social\\n\\n\\ntv folha\\n\\n\\no melhor de sãopaulo\\n\\n\\n\\n\\n          parceiros\\n        \\n\\n\\n\\n\\n\\n\\n\\nAeroin\\nAgência Fapesp\\nBBC News Brasil \\nCaixin\\nDeutsche Welle\\nFinancial Times\\nLatinoamérica 21\\nMensagem de Lisboa\\nPiauí\\nPúblico\\nQuatro Cinco Um\\nRadio France Internationale\\nThe New York Times \\nTelepadi\\n\\n\\n\\nbanco de dados\\n\\n\\npainel do leitor\\n\\n\\n\\n\\n\\n\\n\\n          mais seções\\n        \\n\\n\\n\\n\\n\\n\\n\\nfolha en español\\nfolha in english\\nFolha Mapas\\nfolhaleaks\\ntudo sobre\\nfolha tópicos\\nfolha transparência\\nversão impressa\\nMapa do site\\n\\n\\n\\nclassificados\\n\\n\\n\\n\\n\\n\\n\\n          fale com a folha\\n        \\n\\n\\n\\n\\n\\n\\n\\nCanais para o leitor\\nanuncie (publicidade folha)\\natendimento ao assinante\\nerramos\\nombudsman\\npainel do leitor\\n\\n\\n\\n\\n\\n\\n\\n\\n          Sobre a Folha\\n        \\n\\n\\n\\n\\n\\n\\n\\nsobre o grupo folha\\nexpediente\\npolítica de privacidade\\nprojeto editorial\\ntreinamento\\ntrabalhe na folha\\n\\n\\n\\n\\n\\n\\n\\n\\n\\n\\nContraste\\n\\n\\n\\nClaro\\n\\n\\n\\nEscuro\\n\\n\\n\\n\\n\\nEdições\\n\\n\\n\\n\\nUnited States of America flag\\n\\n\\n\\n\\n\\n\\n\\n\\n\\n\\n\\n\\n\\n\\nENG\\n\\n\\n\\n\\n\\n\\n\\n\\n\\n\\n\\n\\n\\n\\n\\n\\n\\n\\nESP\\n\\n\\n\\n\\n\\n\\nSiga a folha\\n\\n\\n\\nLink externo, abre página da Folha de S.Paulo no Twitter\\n\\n\\n\\n\\n\\n\\n\\nLink externo, abre página da Folha de S.Paulo no Linkedin\\n\\n\\n\\n\\n\\n\\n\\nLink externo, abre página da Folha de S.Paulo no Instagram\\n\\n\\n\\n\\n\\n\\n\\nLink externo, abre página RSS da Folha de S.Paulo\\n\\n\\n\\n\\n\\n\\n\\n\\n\\n\\n\\n\\n\\n\\n\\n\\n\\n\\n\\n\\n\\n\\n\\n\\n \\n\\n\\n\\n\\n\\n\\n\\n\\n\\n\\n\\n\\n\\n\\n\\n\\n\\n\\n\\n\\n\\n\\n\\n\\n\\n\\n                      Mercado - Recall\\n                      \\n\\n\\n            \\n\\n\\n\\n\\n\\nCompartilhar nas redes sociais \"Mercado - Recall: Honda convoca recall para scooter X-ADV\"\\n\\n\\n\\n\\n\\n\\n\\n\\n\\n\\n\\n\\n\\n\\n\\n\\n\\n\\n\\n\\n\\n\\n\\n\\n\\nSalvar para ler depois\\n\\n\\n\\nSalvar artigos\\n\\nÍcone de fechar \\n\\n\\nRecurso exclusivo para assinantes\\n\\nassine\\nou\\nfaça login\\n\\n\\n\\n\\n\\n\\n\\n\\n\\n\\nHonda convoca recall para scooter X-ADV\\n\\n              Campanha envolve 97 unidades do modelo ano 2022\\n              \\n\\n                  8.nov.2022 às 16h28\\n            \\n\\n\\n\\n\\n\\n\\n\\n\\n\\n\\n\\n\\n\\n\\n\\n\\n\\n\\n\\n\\n\\n\\n\\n\\n\\n\\n\\n\\n\\n\\n\\n\\n\\n\\n\\n\\n                        Mercado - Recall\\n                        \\n                      \\t\\n\\n\\n\\n\\n\\n\\nCompartilhar nas redes sociais \"Mercado - Recall: Honda convoca recall para CRF 1100L Africa Twin DCT e CRF 1100L Africa Twin DCT Adventure Sports\"\\n\\n\\n\\n\\n\\n\\n\\n\\n\\n\\n\\n\\n\\n\\n\\n\\n\\n\\n\\n\\n\\n\\n\\n\\n\\nSalvar para ler depois\\n\\n\\n\\nSalvar artigos\\n\\nÍcone de fechar \\n\\n\\nRecurso exclusivo para assinantes\\n\\nassine\\nou\\nfaça login\\n\\n\\n\\n\\n\\n\\n\\n\\n\\n\\n\\nHonda convoca recall para CRF 1100L Africa Twin DCT e CRF 1100L Africa Twin DCT Adventure Sports\\n\\n                  Campanha envolve 342 unidades dos modelos ano 2021\\n                  \\n\\n                      27.set.2022 à 0h00\\n                \\n\\n\\n\\n\\n\\n\\n\\n\\n\\n\\n\\n\\n\\n\\n\\n                        Mercado - Recall\\n                        \\n                      \\t\\n\\n\\n\\n\\n\\n\\nCompartilhar nas redes sociais \"Mercado - Recall: Comunicado de recall aos proprietários dos veículos Audi modelos S6, S7 Sportback, S8, RS6 Avant, RS7 Sportback e A8\"\\n\\n\\n\\n\\n\\n\\n\\n\\n\\n\\n\\n\\n\\n\\n\\n\\n\\n\\n\\n\\n\\n\\n\\n\\n\\nSalvar para ler depois\\n\\n\\n\\nSalvar artigos\\n\\nÍcone de fechar \\n\\n\\nRecurso exclusivo para assinantes\\n\\nassine\\nou\\nfaça login\\n\\n\\n\\n\\n\\n\\n\\n\\n\\n\\n\\nComunicado de recall aos proprietários dos veículos Audi modelos S6, S7 Sportback, S8, RS6 Avant, RS7 Sportback e A8\\n\\n                  Este comunicado se aplica aos veículos com data de fabricação entre 2012 e 2017, a contatarem uma concessionária para a substituição do filtro de óleo dos turbocompressores\\n                  \\n\\n                      4.jul.2022 às 11h04\\n                \\n\\n\\n\\n\\n\\n\\n\\n\\n\\n\\n\\n\\n\\n\\n\\n                        Mercado - Recall\\n                        \\n                      \\t\\n\\n\\n\\n\\n\\n\\nCompartilhar nas redes sociais \"Mercado - Recall: Comunicado de recall aos proprietários dos veículos Porsche Taycan, Taycan Cross Turismo e Taycan Sport Turismo\"\\n\\n\\n\\n\\n\\n\\n\\n\\n\\n\\n\\n\\n\\n\\n\\n\\n\\n\\n\\n\\n\\n\\n\\n\\n\\nSalvar para ler depois\\n\\n\\n\\nSalvar artigos\\n\\nÍcone de fechar \\n\\n\\nRecurso exclusivo para assinantes\\n\\nassine\\nou\\nfaça login\\n\\n\\n\\n\\n\\n\\n\\n\\n\\n\\n\\nComunicado de recall aos proprietários dos veículos Porsche Taycan, Taycan Cross Turismo e Taycan Sport Turismo\\n\\n                  Este comunicado se aplica aos veículos com data de fabricação entre 10/07/2019 e 18/05/2021\\n                  \\n\\n                      20.jun.2022 à 0h00\\n                \\n\\n\\n\\n\\n\\n\\n\\n\\n\\n\\n\\n\\n\\n\\n\\n\\n\\n\\n\\n\\n\\n\\n\\n\\n\\n\\n\\n\\n                        Mercado - Recall\\n                        \\n                      \\t\\n\\n\\n\\n\\n\\n\\nCompartilhar nas redes sociais \"Mercado - Recall: Comunicado de recall aos proprietários dos veículos Porsche Taycan\"\\n\\n\\n\\n\\n\\n\\n\\n\\n\\n\\n\\n\\n\\n\\n\\n\\n\\n\\n\\n\\n\\n\\n\\n\\n\\nSalvar para ler depois\\n\\n\\n\\nSalvar artigos\\n\\nÍcone de fechar \\n\\n\\nRecurso exclusivo para assinantes\\n\\nassine\\nou\\nfaça login\\n\\n\\n\\n\\n\\n\\n\\n\\n\\n\\n\\nComunicado de recall aos proprietários dos veículos Porsche Taycan\\n\\n                  Este comunicado se aplica aos veículos com data de fabricação entre 21/11/2019 e 27/07/2021.\\n                  \\n\\n                      15.jun.2022 às 9h02\\n                \\n\\n\\n\\n\\n\\n\\n\\n\\n\\n\\n\\n\\n\\n\\n\\n                        Mercado - Recall\\n                        \\n                      \\t\\n\\n\\n\\n\\n\\n\\nCompartilhar nas redes sociais \"Mercado - Recall: Moto Honda convoca recall para CBR 1000RR-R Fireblade\"\\n\\n\\n\\n\\n\\n\\n\\n\\n\\n\\n\\n\\n\\n\\n\\n\\n\\n\\n\\n\\n\\n\\n\\n\\n\\nSalvar para ler depois\\n\\n\\n\\nSalvar artigos\\n\\nÍcone de fechar \\n\\n\\nRecurso exclusivo para assinantes\\n\\nassine\\nou\\nfaça login\\n\\n\\n\\n\\n\\n\\n\\n\\n\\n\\n\\nMoto Honda convoca recall para CBR 1000RR-R Fireblade\\n\\n                  Campanha envolve 65 unidades dos modelos ano 2020 e 2022\\n                  \\n\\n                      17.mar.2022 às 11h16\\n                \\n\\n\\n\\n\\n\\n\\n\\n\\n\\n\\n\\n\\n\\n\\n\\n\\n\\n\\n\\n\\n\\n\\n\\n\\n\\n                        Mercado - Recall\\n                        \\n                      \\t\\n\\n\\n\\n\\n\\n\\nCompartilhar nas redes sociais \"Mercado - Recall: Comunicado de recall aos proprietários dos veículos da Audi do Brasil\"\\n\\n\\n\\n\\n\\n\\n\\n\\n\\n\\n\\n\\n\\n\\n\\n\\n\\n\\n\\n\\n\\n\\n\\n\\n\\nSalvar para ler depois\\n\\n\\n\\nSalvar artigos\\n\\nÍcone de fechar \\n\\n\\nRecurso exclusivo para assinantes\\n\\nassine\\nou\\nfaça login\\n\\n\\n\\n\\n\\n\\n\\n\\n\\n\\n\\nComunicado de recall aos proprietários dos veículos da Audi do Brasil\\n\\n                  Empresa convoca proprietários dos modelos A4, RS4 Avant, A5 Sportback, A6, A7 Sportback, e-tron, Q5, SQ5, RS5 Coupé, RS6 Avant, Q7, Q8 e RS Q8 fabricados entre 2019 e 2021\\n                  \\n\\n                      2.mar.2022 às 11h00\\n                \\n\\n\\n\\n\\n\\n\\n\\n\\n\\n\\n\\n\\n\\n\\n\\n\\n\\n\\n                        Mercado - Recall\\n                        \\n                      \\t\\n\\n\\n\\n\\n\\n\\nCompartilhar nas redes sociais \"Mercado - Recall: Porsche convoca recall aos proprietários dos veículos Macan\"\\n\\n\\n\\n\\n\\n\\n\\n\\n\\n\\n\\n\\n\\n\\n\\n\\n\\n\\n\\n\\n\\n\\n\\n\\n\\nSalvar para ler depois\\n\\n\\n\\nSalvar artigos\\n\\nÍcone de fechar \\n\\n\\nRecurso exclusivo para assinantes\\n\\nassine\\nou\\nfaça login\\n\\n\\n\\n\\n\\n\\n\\n\\n\\n\\n\\nPorsche convoca recall aos proprietários dos veículos Macan\\n\\n                  Este comunicado se aplica aos veículos Porsche Macan, com data de fabricação dos entre 05/03/2014 e 04/08/2017\\n                  \\n\\n                      18.nov.2021 às 9h31\\n                \\n\\n\\n\\n\\n\\n\\n\\n\\n\\n\\n\\n\\n\\n\\n\\n                        Mercado - Recall\\n                        \\n                      \\t\\n\\n\\n\\n\\n\\n\\nCompartilhar nas redes sociais \"Mercado - Recall: Moto Honda da Amazônia convoca recall para CB 500F e CB 500X\"\\n\\n\\n\\n\\n\\n\\n\\n\\n\\n\\n\\n\\n\\n\\n\\n\\n\\n\\n\\n\\n\\n\\n\\n\\n\\nSalvar para ler depois\\n\\n\\n\\nSalvar artigos\\n\\nÍcone de fechar \\n\\n\\nRecurso exclusivo para assinantes\\n\\nassine\\nou\\nfaça login\\n\\n\\n\\n\\n\\n\\n\\n\\n\\n\\n\\nMoto Honda da Amazônia convoca recall para CB 500F e CB 500X\\n\\n                  Campanha envolve 2.999 unidades que podem apresentar problemas no módulo ABS\\n                  \\n\\n                      1º.out.2021 às 15h49\\n                \\n\\n\\n\\n\\n\\n\\n\\n\\n\\n\\n\\n\\n\\n\\n\\nCompartilhar nas redes sociais \": Festool convoca recall das serras de esquadria modelos Kapex KS 88 e Kapex KS 120\"\\n\\n\\n\\n\\n\\n\\n\\n\\n\\n\\n\\n\\n\\n\\n\\n\\n\\n\\n\\n\\n\\n\\n\\n\\n\\nSalvar para ler depois\\n\\n\\n\\nSalvar artigos\\n\\nÍcone de fechar \\n\\n\\nRecurso exclusivo para assinantes\\n\\nassine\\nou\\nfaça login\\n\\n\\n\\n\\n\\n\\n\\n\\n\\n\\n\\nFestool convoca recall das serras de esquadria modelos Kapex KS 88 e Kapex KS 120\\n\\n                  Festool convoca recall das serras de esquadria modelos Kapex KS 88 e Kapex KS 120, período de produção 2007 a 02/2010\\n                  \\n\\n                      1º.jun.2021 às 10h57\\n                \\n\\n\\n\\n\\n\\n\\n\\n\\n\\n\\n\\n\\n\\n\\n\\n\\n\\n\\nCompartilhar nas redes sociais \": Honda convoca recall de CR-V, Civic Touring, Accord e HR-V Touring\"\\n\\n\\n\\n\\n\\n\\n\\n\\n\\n\\n\\n\\n\\n\\n\\n\\n\\n\\n\\n\\n\\n\\n\\n\\n\\nSalvar para ler depois\\n\\n\\n\\nSalvar artigos\\n\\nÍcone de fechar \\n\\n\\nRecurso exclusivo para assinantes\\n\\nassine\\nou\\nfaça login\\n\\n\\n\\n\\n\\n\\n\\n\\n\\n\\n\\nHonda convoca recall de CR-V, Civic Touring, Accord e HR-V Touring\\n\\n                  Este comunicado se aplica aos veículos Civic Touring 2019 e 2020, Accord 2019, HR-V Touring 2020 e CR-V 2019.\\n                  \\n\\n                      4.mai.2021 às 20h02\\n                \\n\\n\\n\\n\\n\\n\\n\\n\\n\\n\\n\\n\\n\\n\\n\\nCompartilhar nas redes sociais \": Honda convoca recall a CRF 450R\"\\n\\n\\n\\n\\n\\n\\n\\n\\n\\n\\n\\n\\n\\n\\n\\n\\n\\n\\n\\n\\n\\n\\n\\n\\n\\nSalvar para ler depois\\n\\n\\n\\nSalvar artigos\\n\\nÍcone de fechar \\n\\n\\nRecurso exclusivo para assinantes\\n\\nassine\\nou\\nfaça login\\n\\n\\n\\n\\n\\n\\n\\n\\n\\n\\n\\nHonda convoca recall a CRF 450R\\n\\n                A falha no motor ou o bloqueio na roda podem causar risco de queda, danos materiais, lesões graves ou até mesmo fatais aos ocupantes e/ou a terceiros.\\n                \\n\\n                    4.mai.2021 às 20h01\\n              \\n\\n\\n\\n\\n\\n\\n\\n\\n\\n\\n\\n\\n\\n\\n\\nCompartilhar nas redes sociais \": Comunicado de recall aos proprietários dos veículos Porsche Taycan, 911 e 718\"\\n\\n\\n\\n\\n\\n\\n\\n\\n\\n\\n\\n\\n\\n\\n\\n\\n\\n\\n\\n\\n\\n\\n\\n\\n\\nSalvar para ler depois\\n\\n\\n\\nSalvar artigos\\n\\nÍcone de fechar \\n\\n\\nRecurso exclusivo para assinantes\\n\\nassine\\nou\\nfaça login\\n\\n\\n\\n\\n\\n\\n\\n\\n\\n\\n\\nComunicado de recall aos proprietários dos veículos Porsche Taycan, 911 e 718\\n\\n                Possibilidade de que as conexões rosqueadas no chassi dos Produtos não tenham sido apertadas de acordo com as especificações técnicas aplicáveis.\\n                \\n\\n                    30.abr.2021 às 9h36\\n              \\n\\n\\n\\n\\n\\n\\n\\n\\n\\n\\n\\n\\n\\n\\n\\n\\n\\n\\n\\n\\n\\n\\nCompartilhar nas redes sociais \": Honda convoca recall do Accord\"\\n\\n\\n\\n\\n\\n\\n\\n\\n\\n\\n\\n\\n\\n\\n\\n\\n\\n\\n\\n\\n\\n\\n\\n\\n\\nSalvar para ler depois\\n\\n\\n\\nSalvar artigos\\n\\nÍcone de fechar \\n\\n\\nRecurso exclusivo para assinantes\\n\\nassine\\nou\\nfaça login\\n\\n\\n\\n\\n\\n\\n\\n\\n\\n\\n\\nHonda convoca recall do Accord\\n\\n                Falha no módulo de controle da carroceria pode ocasionar infrações às legislações de trânsito vigentes\\n                \\n\\n                    7.jan.2021 às 19h19\\n              \\n\\n\\n\\n\\n\\n\\n\\n\\n\\n\\n\\n\\n\\n\\n\\nCompartilhar nas redes sociais \": Honda convoca recall da CRF 1000L Africa Twin Adventure Sports\"\\n\\n\\n\\n\\n\\n\\n\\n\\n\\n\\n\\n\\n\\n\\n\\n\\n\\n\\n\\n\\n\\n\\n\\n\\n\\nSalvar para ler depois\\n\\n\\n\\nSalvar artigos\\n\\nÍcone de fechar \\n\\n\\nRecurso exclusivo para assinantes\\n\\nassine\\nou\\nfaça login\\n\\n\\n\\n\\n\\n\\n\\n\\n\\n\\n\\nHonda convoca recall da CRF 1000L Africa Twin Adventure Sports\\n\\n                Obstrução do filtro da bomba de combustível pode causar falhas no funcionamento do motor. Recall será feito a partir do dia 25 de janeiro de 2021\\n                \\n\\n                    7.jan.2021 às 19h17\\n              \\n\\n\\n\\n\\n\\n\\n\\n\\n\\n\\n\\n\\n\\n\\n\\n\\n\\n\\n\\n\\n\\n\\nCompartilhar nas redes sociais \": Comunicado de recall aos proprietários dos veículos Porsche Cayenne e Cayenne Coupé\"\\n\\n\\n\\n\\n\\n\\n\\n\\n\\n\\n\\n\\n\\n\\n\\n\\n\\n\\n\\n\\n\\n\\n\\n\\n\\nSalvar para ler depois\\n\\n\\n\\nSalvar artigos\\n\\nÍcone de fechar \\n\\n\\nRecurso exclusivo para assinantes\\n\\nassine\\nou\\nfaça login\\n\\n\\n\\n\\n\\n\\n\\n\\n\\n\\n\\nComunicado de recall aos proprietários dos veículos Porsche Cayenne e Cayenne Coupé\\n\\n                Modelos: Porsche Cayenne e Cayenne Coupé\\n                \\n\\n                    8.dez.2020 à 0h00\\n              \\n\\n\\n\\n\\n\\n\\n\\n\\n\\n\\n\\n\\n\\n\\n\\n\\n\\n\\n\\n\\n\\n\\nCompartilhar nas redes sociais \": Comunicado de recall aos proprietários dos veículos Porsche Cayenne\"\\n\\n\\n\\n\\n\\n\\n\\n\\n\\n\\n\\n\\n\\n\\n\\n\\n\\n\\n\\n\\n\\n\\n\\n\\n\\nSalvar para ler depois\\n\\n\\n\\nSalvar artigos\\n\\nÍcone de fechar \\n\\n\\nRecurso exclusivo para assinantes\\n\\nassine\\nou\\nfaça login\\n\\n\\n\\n\\n\\n\\n\\n\\n\\n\\n\\nComunicado de recall aos proprietários dos veículos Porsche Cayenne\\n\\n                Modelos: Cayenne Turbo, Cayenne Turbo S E-Hybrid, Cayenne Turbo Coupé e Cayenne Turbo S E-Hybrid Coupé.\\n                \\n\\n                    8.dez.2020 à 0h00\\n              \\n\\n\\n\\n\\n\\n\\n\\n\\n\\n\\n\\n\\n\\n\\n\\nCompartilhar nas redes sociais \": Honda convoca recall do Civic, Accord, CR-V e Odyssey\"\\n\\n\\n\\n\\n\\n\\n\\n\\n\\n\\n\\n\\n\\n\\n\\n\\n\\n\\n\\n\\n\\n\\n\\n\\n\\nSalvar para ler depois\\n\\n\\n\\nSalvar artigos\\n\\nÍcone de fechar \\n\\n\\nRecurso exclusivo para assinantes\\n\\nassine\\nou\\nfaça login\\n\\n\\n\\n\\n\\n\\n\\n\\n\\n\\n\\nHonda convoca recall do Civic, Accord, CR-V e Odyssey\\n\\n                Concessionárias autorizadas já estão realizando agendamento para a substituição definitiva do insuflador do Airbag do motorista e reativação do sistema.\\n                \\n\\n                    17.jul.2020 às 18h57\\n              \\n\\n\\n\\n\\n\\n\\n\\n\\n\\n\\n\\n\\n\\n\\n\\nCompartilhar nas redes sociais \": Honda convoca recall de Civic Touring, Accord e HR-V Touring\"\\n\\n\\n\\n\\n\\n\\n\\n\\n\\n\\n\\n\\n\\n\\n\\n\\n\\n\\n\\n\\n\\n\\n\\n\\n\\nSalvar para ler depois\\n\\n\\n\\nSalvar artigos\\n\\nÍcone de fechar \\n\\n\\nRecurso exclusivo para assinantes\\n\\nassine\\nou\\nfaça login\\n\\n\\n\\n\\n\\n\\n\\n\\n\\n\\n\\nHonda convoca recall de Civic Touring, Accord e HR-V Touring\\n\\n                Problema na bomba de combustível pode causar o risco de parada repentina do motor.\\n                \\n\\n                    17.jul.2020 às 18h18\\n              \\n\\n\\n\\n\\n\\n\\n\\n\\n\\n\\n\\n\\n\\n\\n\\n\\n\\n\\n\\n\\n\\n\\nCompartilhar nas redes sociais \": Comunicado de recall aos proprietários dos veículos Porsche Macan, Macan S, Macan GTS e Macan Turbo.\"\\n\\n\\n\\n\\n\\n\\n\\n\\n\\n\\n\\n\\n\\n\\n\\n\\n\\n\\n\\n\\n\\n\\n\\n\\n\\nSalvar para ler depois\\n\\n\\n\\nSalvar artigos\\n\\nÍcone de fechar \\n\\n\\nRecurso exclusivo para assinantes\\n\\nassine\\nou\\nfaça login\\n\\n\\n\\n\\n\\n\\n\\n\\n\\n\\n\\nComunicado de recall aos proprietários dos veículos Porsche Macan, Macan S, Macan GTS e Macan Turbo.\\n\\n                Recall dos veículos Porsche Macan, Macan S, Macan GTS e Macan Turbo\\n                \\n\\n                    5.jun.2020 à 0h00\\n              \\n\\n\\n\\n\\n\\n\\n\\n\\n\\n\\n\\n\\n\\n\\n\\n\\n\\n\\n\\n\\n\\n\\n                    Fiat\\n                    \\n                    \\n\\n\\n\\n\\n\\n\\nCompartilhar nas redes sociais \"Fiat: FCA Fiat Chrysler faz recall do Fiat Mobi\"\\n\\n\\n\\n\\n\\n\\n\\n\\n\\n\\n\\n\\n\\n\\n\\n\\n\\n\\n\\n\\n\\n\\n\\n\\n\\nSalvar para ler depois\\n\\n\\n\\nSalvar artigos\\n\\nÍcone de fechar \\n\\n\\nRecurso exclusivo para assinantes\\n\\nassine\\nou\\nfaça login\\n\\n\\n\\n\\n\\n\\n\\n\\n\\n\\n\\nFCA Fiat Chrysler faz recall do Fiat Mobi\\n\\n                Substituição do interruptor das luzes de freio\\n                \\n\\n                    21.fev.2020 à 0h00\\n              \\n\\n\\n\\n\\n\\n\\n\\n\\n\\n\\n\\n\\n\\n\\n\\n\\n\\n\\n\\n\\n\\n\\n                    Fiat\\n                    \\n                    \\n\\n\\n\\n\\n\\n\\nCompartilhar nas redes sociais \"Fiat: FCA Fiat Chrysler faz recall do Fiat Grand Siena Attractive 1.0 e 1.4\"\\n\\n\\n\\n\\n\\n\\n\\n\\n\\n\\n\\n\\n\\n\\n\\n\\n\\n\\n\\n\\n\\n\\n\\n\\n\\nSalvar para ler depois\\n\\n\\n\\nSalvar artigos\\n\\nÍcone de fechar \\n\\n\\nRecurso exclusivo para assinantes\\n\\nassine\\nou\\nfaça login\\n\\n\\n\\n\\n\\n\\n\\n\\n\\n\\n\\nFCA Fiat Chrysler faz recall do Fiat Grand Siena Attractive 1.0 e 1.4\\n\\n                Substituição do módulo do airbag do lado do motorista e do volante grátis. Potenciais danos físicos graves ou até mesmo fatais aos ocupantes do veículo e a terceiros.\\n                \\n\\n                    21.fev.2020 à 0h00\\n              \\n\\n\\n\\n\\n\\n\\n\\n\\n\\n\\n\\n\\n\\n\\n\\n\\n\\n\\n\\n\\n\\n\\n                    Fiat\\n                    \\n                    \\n\\n\\n\\n\\n\\n\\nCompartilhar nas redes sociais \"Fiat: FCA Fiat Chrysler faz recall do Fiat Toro\"\\n\\n\\n\\n\\n\\n\\n\\n\\n\\n\\n\\n\\n\\n\\n\\n\\n\\n\\n\\n\\n\\n\\n\\n\\n\\nSalvar para ler depois\\n\\n\\n\\nSalvar artigos\\n\\nÍcone de fechar \\n\\n\\nRecurso exclusivo para assinantes\\n\\nassine\\nou\\nfaça login\\n\\n\\n\\n\\n\\n\\n\\n\\n\\n\\n\\nFCA Fiat Chrysler faz recall do Fiat Toro\\n\\n                Substituição dos coxins de absorção de vibração do motor grátis. Risco de incêndio, com potenciais danos materiais, danos físicos graves ou até mesmo fatais\\n                \\n\\n                    14.fev.2020 às 11h41\\n              \\n\\n\\n\\n\\n\\n\\n\\n\\n\\n\\n\\n\\n\\n\\n\\n\\n\\n\\n\\n\\n\\n\\n                    Jeep\\n                    \\n                    \\n\\n\\n\\n\\n\\n\\nCompartilhar nas redes sociais \"Jeep: FCA Fiat Chrysler faz recall de Jeep Renegade\"\\n\\n\\n\\n\\n\\n\\n\\n\\n\\n\\n\\n\\n\\n\\n\\n\\n\\n\\n\\n\\n\\n\\n\\n\\n\\nSalvar para ler depois\\n\\n\\n\\nSalvar artigos\\n\\nÍcone de fechar \\n\\n\\nRecurso exclusivo para assinantes\\n\\nassine\\nou\\nfaça login\\n\\n\\n\\n\\n\\n\\n\\n\\n\\n\\n\\nFCA Fiat Chrysler faz recall de Jeep Renegade\\n\\n                Análise e, se necessária, a substituição do conjunto da pinça de freio traseira do lado direito dos veículos convocados.\\n                \\n\\n                    14.fev.2020 à 0h00\\n              \\n\\n\\n\\n\\n\\n\\n\\n\\n\\n\\n\\n\\n\\n\\n\\n\\n\\n\\n\\n\\n\\n\\n                    Jeep\\n                    \\n                    \\n\\n\\n\\n\\n\\n\\nCompartilhar nas redes sociais \"Jeep: FCA Fiat Chrysler faz recall de Jeep Grand Cherokee e Dodge Durango\"\\n\\n\\n\\n\\n\\n\\n\\n\\n\\n\\n\\n\\n\\n\\n\\n\\n\\n\\n\\n\\n\\n\\n\\n\\n\\nSalvar para ler depois\\n\\n\\n\\nSalvar artigos\\n\\nÍcone de fechar \\n\\n\\nRecurso exclusivo para assinantes\\n\\nassine\\nou\\nfaça login\\n\\n\\n\\n\\n\\n\\n\\n\\n\\n\\n\\nFCA Fiat Chrysler faz recall de Jeep Grand Cherokee e Dodge Durango\\n\\n                Possibilidade de falha no relé da bomba de combustível\\n                \\n\\n                    6.dez.2019 à 0h01\\n              \\n\\n\\n\\n\\n\\n\\n\\n\\n          Ver mais\\n    \\n    \\n\\n\\n\\n\\n\\n\\n\\n\\n\\n\\n\\n\\n\\n\\n\\n\\n\\n\\n\\n\\n\\n\\n\\n      Modal 500\\n    \\n\\n\\n\\n\\n\\n\\n\\n\\n\\n\\nOK\\n\\n\\n\\n\\n\\n\\n\\n\\n\\n\\n\\n\\n\\n\\n\\n\\n\\n\\n\\n\\n\\n\\n\\nFolha de S.Paulo\\nAssine\\nTopo \\n\\n\\n\\n\\n\\n\\n\\n        folha de s.paulo\\n      \\n\\n\\n\\n            Sobre a Folha            \\n\\n\\n\\n            Política de Privacidade            \\n\\n\\n\\n            Expediente            \\n\\n\\n\\n            Acervo Folha            \\n\\n\\n\\n            Projeto Editorial            \\n\\n\\n\\n            Seminários Folha            \\n\\n\\n\\n            Clube Folha            \\n\\n\\n\\n            Coleções Folha            \\n\\n\\n\\n            Trabalhe na Folha            \\n\\n\\n\\n            Treinamento            \\n\\n\\n\\n\\n\\n        Fale com a Folha\\n      \\n\\n\\n\\n            Anuncie (Publicidade Folha)            \\n\\n\\n\\n            Atendimento ao Assinante            \\n\\n\\n\\n            Erramos            \\n\\n\\n\\n            Fale com a Folha            \\n\\n\\n\\n            Ombudsman            \\n\\n\\n\\n            Painel do Leitor            \\n\\n\\n\\n\\n\\n        editorias\\n      \\n\\n\\n\\n            Política            \\n\\n\\n\\n            Economia            \\n\\n\\n\\n            Cotidiano            \\n\\n\\n\\n            Mundo            \\n\\n\\n\\n            Esporte            \\n\\n\\n\\n            Ilustrada            \\n\\n\\n\\n            Ilustríssima            \\n\\n\\n\\n            Comida            \\n\\n\\n\\n            F5            \\n\\n\\n\\n            Podcasts            \\n\\n\\n\\n            Folhinha            \\n\\n\\n\\n            Saúde            \\n\\n\\n\\n            Ciência            \\n\\n\\n\\n            Ambiente            \\n\\n\\n\\n            Equilíbrio            \\n\\n\\n\\n            Fotografia            \\n\\n\\n\\n            TV Folha            \\n\\n\\n\\n            Educação            \\n\\n\\n\\n            Turismo            \\n\\n\\n\\n            Guia Folha            \\n\\n\\n\\n            Empreendedorismo            \\n\\n\\n\\n            Banco de Dados            \\n\\n\\n\\n\\n\\n        opinião\\n      \\n\\n\\n\\n            Opinião            \\n\\n\\n\\n            Colunas e Blogs            \\n\\n\\n\\n\\n\\n        mais seções\\n      \\n\\n\\n\\n            Dias Melhores            \\n\\n\\n\\n            Folha Social+            \\n\\n\\n\\n            Seminários Folha            \\n\\n\\n\\n            Especiais            \\n\\n\\n\\n            Folha, 100            \\n\\n\\n\\n            Folha en Español            \\n\\n\\n\\n            Folha In English            \\n\\n\\n\\n            Folhainvest            \\n\\n\\n\\n            Folhaleaks            \\n\\n\\n\\n            Folha Mapas            \\n\\n\\n\\n            Folha Tópicos            \\n\\n\\n\\n            Folha Transparência            \\n\\n\\n\\n            Últimas notícias            \\n\\n\\n\\n            Versão Impressa            \\n\\n\\n\\n            Mapa do site            \\n\\n\\n\\n\\n\\n        serviços\\n      \\n\\n\\n\\n            Aeroportos            \\n\\n\\n\\n            Classificados            \\n\\n\\n\\n            Folha Informações            \\n\\n\\n\\n            Horóscopo            \\n\\n\\n\\n            Loterias            \\n\\n\\n\\n            Mortes            \\n\\n\\n\\n            Tempo            \\n\\n\\n\\n\\n\\n        outros canais\\n      \\n\\n\\n\\n            Datafolha            \\n\\n\\n\\n            Estúdio Folha            \\n\\n\\n\\n            Publicidade Legal            \\n\\n\\n\\n            Folhapress            \\n\\n\\n\\n            Folha Eventos            \\n\\n\\n\\n            Top of Mind            \\n\\n\\n\\n\\n\\n        \\n        Empresa Folha da Manhã S.A. - Grupo Folha - Copyright Folha de S.Paulo (1921 - 2023) \\n              \\n\\n        \\n        CNPJ: 60.579.703/0001-48\\n              \\n\\n\\n\\n        CANAIS DA FOLHA\\n      \\n\\n\\n\\n            Fale com a Redação            \\n\\n\\n\\n            Mapa do site            \\n\\n\\n\\n            Atendimento ao Assinante            \\n\\n\\n\\n            Ombudsman            \\n\\n\\n\\n            Política de Privacidade            \\n\\n\\n\\n\\nnewsletter\\n\\n\\n\\n\\n\\n\\n\\n\\n\\n\\n\\n\\n\\n\\nLink externo, abre perfil da Folha de S.Paulo no Facebook\\n\\n\\n\\n\\n\\n\\n\\nLink externo, abre página da Folha de S.Paulo no Twitter\\n\\n\\n\\n\\n\\n\\n\\nLink externo, abre página da Folha de S.Paulo no Linkedin\\n\\n\\n\\n\\n\\n\\n\\nLink externo, abre página da Folha de S.Paulo no Instagram\\n\\n\\n\\n\\n\\n\\n\\nLink externo, abre página RSS da Folha de S.Paulo\\n\\n\\n\\n\\n\\n\\n\\n\\n\\n\\nA Folha integra o\\n\\n\\n\\n\\n\\n\\n\\n\\n\\n\\n\\n\\n\\n\\n\\n\\n\\n\\n\\n\\n\\nO jornal Folha de S.Paulo é publicado pela Empresa Folha da Manhã S.A. CNPJ: 60.579.703/0001-48\\n\\n\\n\\n\\n\\n\\nCopyright Folha de S.Paulo. Todos os direitos reservados. É proibida a reprodução do conteúdo desta página em qualquer meio de comunicação, eletrônico ou impresso, sem autorização escrita da Folhapress.\\n\\n\\n\\n\\n\\n\\n\\n\\n      NEWSLETTER\\n      \\n\\n\\n\\n\\n\\n\\n\\nÍcone alerta\\n\\n\\n        Por favor, selecione uma das opções abaixo.\\n      \\n\\n\\nQuais newsletters você gostaria de assinar?\\n\\n\\n\\n                      Cuide-se\\n                                          \\n\\n\\n\\n\\n                      Maratonar\\n                                          \\n\\n\\n\\n\\n                      Notícias do dia\\n                                          \\n\\n\\n\\n\\n                      Mônica Bergamo\\n                      *                    \\n\\n\\n\\n\\n                      Painel S.A.\\n                      *                    \\n\\n\\n\\n\\n                      Painel\\n                      *                    \\n\\n\\n\\n\\n                      Tudo a ler\\n                                          \\n\\n\\n\\n\\n                      China, terra do meio\\n                      *                    \\n\\n\\n\\n\\n                      Folha Minas\\n                                          \\n\\n\\n\\n\\n                      Folha Mercado\\n                                          \\n\\n\\n\\n\\n                      Colunas e Blogs\\n                      *                    \\n\\n\\n\\n\\n                      Brasília hoje\\n                      *                    \\n\\n\\n\\n\\n                      Folha Carreiras\\n                                          \\n\\n\\n\\n\\n                      FolhaJus+\\n                      *                    \\n\\n\\n\\n\\n                      FolhaJus Dia\\n                                          \\n\\n\\n\\n\\n                      Dicas do Editor\\n                      *                    \\n\\n\\n\\n\\n                      F5\\n                                          \\n\\n\\n\\n\\n                      Para curtir SP\\n                                          \\n\\n\\n\\n\\n                      Lá fora\\n                                          \\n\\n\\n\\n\\n                      Folha na Sala\\n                      *                    \\n\\n\\n\\n\\n                      Folhamed\\n                      *                    \\n\\n\\n\\n\\n                      News from Brazil\\n                                          \\n\\n\\n\\n\\n                      Noticias de Brasil\\n                                          \\n\\n\\n\\n\\n                      Combo\\n                                          \\n\\n\\n\\n\\n                      Sinápse\\n                                          \\n\\n\\n\\n\\n                      FolhaMais\\n                      *                    \\n\\n\\n*exclusivo para assinantes\\n\\n\\n\\nVocê também gostaria de:\\n\\n\\nReceber informações sobre produtos e serviços da Folha de S. Paulo\\n\\n\\n\\nReceber ofertas de parceiros da Folha de S. Paulo\\n\\n\\n\\nCancelar\\nConfirmar\\n\\n\\n\\nCadastro realizado com sucesso!\\n\\nOk\\n\\n\\n\\nPor favor, tente mais tarde!\\n\\nOk')\n"
     ]
    }
   ],
   "source": [
    "command = \"!search 1997 honda accord\"\n",
    "\n",
    "print(tfidf_search(command))"
   ]
  },
  {
   "cell_type": "code",
   "execution_count": 11,
   "metadata": {},
   "outputs": [
    {
     "ename": "AttributeError",
     "evalue": "'NoneType' object has no attribute 'group'",
     "output_type": "error",
     "traceback": [
      "\u001b[0;31m---------------------------------------------------------------------------\u001b[0m",
      "\u001b[0;31mAttributeError\u001b[0m                            Traceback (most recent call last)",
      "Cell \u001b[0;32mIn[11], line 3\u001b[0m\n\u001b[1;32m      1\u001b[0m command \u001b[39m=\u001b[39m \u001b[39m\"\u001b[39m\u001b[39m!gpt2_generate a poem about a 1997 honda accord\u001b[39m\u001b[39m\"\u001b[39m\n\u001b[0;32m----> 3\u001b[0m \u001b[39mprint\u001b[39m(gpt2_generate(command))\n",
      "File \u001b[0;32m~/INSPER/6semestre/NLP/NLP_discordBot/generator.py:106\u001b[0m, in \u001b[0;36mgpt2_generate\u001b[0;34m(command)\u001b[0m\n\u001b[1;32m    104\u001b[0m \u001b[39mdef\u001b[39;00m \u001b[39mgpt2_generate\u001b[39m(command):\n\u001b[1;32m    105\u001b[0m     match \u001b[39m=\u001b[39m re\u001b[39m.\u001b[39mmatch(\u001b[39mr\u001b[39m\u001b[39m\"\u001b[39m\u001b[39m!gpt2_generate:(.+)\u001b[39m\u001b[39m\"\u001b[39m, command)\n\u001b[0;32m--> 106\u001b[0m     content \u001b[39m=\u001b[39m match\u001b[39m.\u001b[39;49mgroup(\u001b[39m1\u001b[39m)\n\u001b[1;32m    108\u001b[0m     generator \u001b[39m=\u001b[39m pipeline(\u001b[39m'\u001b[39m\u001b[39mtext-generation\u001b[39m\u001b[39m'\u001b[39m, model\u001b[39m=\u001b[39m\u001b[39m'\u001b[39m\u001b[39mgpt2\u001b[39m\u001b[39m'\u001b[39m)\n\u001b[1;32m    109\u001b[0m     set_seed(\u001b[39m42\u001b[39m)\n",
      "\u001b[0;31mAttributeError\u001b[0m: 'NoneType' object has no attribute 'group'"
     ]
    }
   ],
   "source": [
    "command = \"!gpt2_generate a poem about a 1997 honda accord\"\n",
    "\n",
    "print(gpt2_generate(command))"
   ]
  },
  {
   "cell_type": "code",
   "execution_count": null,
   "metadata": {},
   "outputs": [],
   "source": []
  }
 ],
 "metadata": {
  "kernelspec": {
   "display_name": "Python 3",
   "language": "python",
   "name": "python3"
  },
  "language_info": {
   "codemirror_mode": {
    "name": "ipython",
    "version": 3
   },
   "file_extension": ".py",
   "mimetype": "text/x-python",
   "name": "python",
   "nbconvert_exporter": "python",
   "pygments_lexer": "ipython3",
   "version": "3.8.10"
  },
  "orig_nbformat": 4,
  "vscode": {
   "interpreter": {
    "hash": "916dbcbb3f70747c44a77c7bcd40155683ae19c65e1c03b4aa3499c5328201f1"
   }
  }
 },
 "nbformat": 4,
 "nbformat_minor": 2
}
