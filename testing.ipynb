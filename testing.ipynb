{
 "cells": [
  {
   "cell_type": "code",
   "execution_count": 1,
   "metadata": {},
   "outputs": [
    {
     "name": "stderr",
     "output_type": "stream",
     "text": [
      "2023-05-21 19:47:24.655907: I tensorflow/tsl/cuda/cudart_stub.cc:28] Could not find cuda drivers on your machine, GPU will not be used.\n",
      "2023-05-21 19:47:24.695389: I tensorflow/tsl/cuda/cudart_stub.cc:28] Could not find cuda drivers on your machine, GPU will not be used.\n",
      "2023-05-21 19:47:24.696152: I tensorflow/core/platform/cpu_feature_guard.cc:182] This TensorFlow binary is optimized to use available CPU instructions in performance-critical operations.\n",
      "To enable the following instructions: AVX2 FMA, in other operations, rebuild TensorFlow with the appropriate compiler flags.\n",
      "2023-05-21 19:47:25.447930: W tensorflow/compiler/tf2tensorrt/utils/py_utils.cc:38] TF-TRT Warning: Could not find TensorRT\n",
      "/usr/lib/python3/dist-packages/requests/__init__.py:89: RequestsDependencyWarning: urllib3 (1.26.14) or chardet (3.0.4) doesn't match a supported version!\n",
      "  warnings.warn(\"urllib3 ({}) or chardet ({}) doesn't match a supported \"\n"
     ]
    }
   ],
   "source": [
    "from generator import *\n",
    "from search import *\n",
    "\n",
    "print(content_generator(\"!generate pato\"))"
   ]
  },
  {
   "cell_type": "code",
   "execution_count": 1,
   "metadata": {},
   "outputs": [],
   "source": [
    "command = \"!search pato\""
   ]
  },
  {
   "cell_type": "code",
   "execution_count": 2,
   "metadata": {},
   "outputs": [],
   "source": [
    "import re\n",
    "\n",
    "pattern = r\"!search (.+)(?:\\sth=(\\d+(\\.\\d+)?))?\"\n",
    "match = re.match(pattern, command)\n",
    "\n",
    "if match:\n",
    "    term = match.group(1)\n",
    "    threshold = match.group(2)\n",
    "        \n",
    "    if threshold is not None:\n",
    "        threshold = float(threshold)\n",
    "\n",
    "# else:\n",
    "#     match = re.match(r\"!search (.+)\", command)"
   ]
  },
  {
   "cell_type": "code",
   "execution_count": 3,
   "metadata": {},
   "outputs": [],
   "source": [
    "from sklearn.feature_extraction.text import CountVectorizer\n",
    "from sklearn.pipeline import Pipeline\n",
    "from sklearn.linear_model import LogisticRegression\n",
    "from sklearn.model_selection import train_test_split\n",
    "from sklearn.metrics import accuracy_score\n",
    "import numpy as np\n",
    "import pandas as pd\n"
   ]
  },
  {
   "cell_type": "code",
   "execution_count": 4,
   "metadata": {},
   "outputs": [],
   "source": [
    "\n",
    "def content_filter(content):\n",
    "\n",
    "    bad_words = 'datasets/bad_words.csv'\n",
    "    good_words = 'datasets/words_pos.csv'\n",
    "\n",
    "    bad_words = pd.read_csv(bad_words)\n",
    "    good_words = pd.read_csv(good_words)\n",
    "\n",
    "\n",
    "    good_words = good_words.drop(columns=['pos_tag'])\n",
    "    good_words['IsBad'] = 0\n",
    "    bad_words['IsBad'] = 1\n",
    "\n",
    "    good_words_sample = good_words.sample(1618, random_state=42)\n",
    "\n",
    "    words = pd.concat([good_words_sample, bad_words])\n",
    "\n",
    "    X = words[\"word\"]\n",
    "    y = words[\"IsBad\"]\n",
    "\n",
    "    X_train, X_test, y_train, y_test = train_test_split(X, y ,test_size=0.2, random_state=42)\n",
    "\n",
    "    classificador = Pipeline([\n",
    "                        ('meu_vetorizador', CountVectorizer(stop_words='english')),\n",
    "                        ('meu_classificador', LogisticRegression(penalty=None, solver='saga', max_iter=10000))\n",
    "                        ])\n",
    "    \n",
    "    classificador.fit(X_train,y_train)\n",
    "    y_pred = classificador.predict(X_test)\n",
    "    acc = accuracy_score(y_pred,y_test)\n",
    "    print(acc)\n",
    "\n",
    "    prob = classificador.predict_log_proba([content])\n",
    "    probas = classificador.predict_proba(X_train)\n",
    "\n",
    "    m = np.max(probas)\n",
    "    prob = 2 * (m - prob) / (2 * m) - 1\n",
    "    return prob[0][1]\n"
   ]
  },
  {
   "cell_type": "code",
   "execution_count": 5,
   "metadata": {},
   "outputs": [
    {
     "name": "stdout",
     "output_type": "stream",
     "text": [
      "0.45904173106646057\n"
     ]
    }
   ],
   "source": [
    "th = content_filter(\"ass\")\n",
    "\n",
    "if th > 0.5:\n",
    "    print(\"yup\")"
   ]
  },
  {
   "cell_type": "code",
   "execution_count": 6,
   "metadata": {},
   "outputs": [],
   "source": [
    "\n",
    "bad_words = 'datasets/bad_words.csv'\n",
    "good_words = 'datasets/words_pos.csv'\n",
    "\n",
    "bad_words = pd.read_csv(bad_words)\n",
    "good_words = pd.read_csv(good_words)\n",
    "\n",
    "\n",
    "good_words = good_words.drop(columns=['pos_tag'])\n",
    "good_words['IsBad'] = 0\n",
    "bad_words['IsBad'] = 1\n",
    "\n",
    "good_words_sample = good_words.sample(1618, random_state=42)\n",
    "\n",
    "words = pd.concat([good_words_sample, bad_words])"
   ]
  },
  {
   "cell_type": "code",
   "execution_count": 7,
   "metadata": {},
   "outputs": [
    {
     "data": {
      "text/html": [
       "<div>\n",
       "<style scoped>\n",
       "    .dataframe tbody tr th:only-of-type {\n",
       "        vertical-align: middle;\n",
       "    }\n",
       "\n",
       "    .dataframe tbody tr th {\n",
       "        vertical-align: top;\n",
       "    }\n",
       "\n",
       "    .dataframe thead th {\n",
       "        text-align: right;\n",
       "    }\n",
       "</style>\n",
       "<table border=\"1\" class=\"dataframe\">\n",
       "  <thead>\n",
       "    <tr style=\"text-align: right;\">\n",
       "      <th></th>\n",
       "      <th>word</th>\n",
       "      <th>IsBad</th>\n",
       "    </tr>\n",
       "  </thead>\n",
       "  <tbody>\n",
       "    <tr>\n",
       "      <th>219193</th>\n",
       "      <td>overemployment</td>\n",
       "      <td>0</td>\n",
       "    </tr>\n",
       "    <tr>\n",
       "      <th>119423</th>\n",
       "      <td>frostflower</td>\n",
       "      <td>0</td>\n",
       "    </tr>\n",
       "    <tr>\n",
       "      <th>251834</th>\n",
       "      <td>progeneration</td>\n",
       "      <td>0</td>\n",
       "    </tr>\n",
       "    <tr>\n",
       "      <th>319490</th>\n",
       "      <td>terracer</td>\n",
       "      <td>0</td>\n",
       "    </tr>\n",
       "    <tr>\n",
       "      <th>258313</th>\n",
       "      <td>quemeful</td>\n",
       "      <td>0</td>\n",
       "    </tr>\n",
       "    <tr>\n",
       "      <th>...</th>\n",
       "      <td>...</td>\n",
       "      <td>...</td>\n",
       "    </tr>\n",
       "    <tr>\n",
       "      <th>1612</th>\n",
       "      <td>cocky</td>\n",
       "      <td>1</td>\n",
       "    </tr>\n",
       "    <tr>\n",
       "      <th>1613</th>\n",
       "      <td>transsexual</td>\n",
       "      <td>1</td>\n",
       "    </tr>\n",
       "    <tr>\n",
       "      <th>1614</th>\n",
       "      <td>unfuckable</td>\n",
       "      <td>1</td>\n",
       "    </tr>\n",
       "    <tr>\n",
       "      <th>1615</th>\n",
       "      <td>bestiality</td>\n",
       "      <td>1</td>\n",
       "    </tr>\n",
       "    <tr>\n",
       "      <th>1616</th>\n",
       "      <td>cocklicker</td>\n",
       "      <td>1</td>\n",
       "    </tr>\n",
       "  </tbody>\n",
       "</table>\n",
       "<p>3235 rows × 2 columns</p>\n",
       "</div>"
      ],
      "text/plain": [
       "                  word  IsBad\n",
       "219193  overemployment      0\n",
       "119423     frostflower      0\n",
       "251834   progeneration      0\n",
       "319490        terracer      0\n",
       "258313        quemeful      0\n",
       "...                ...    ...\n",
       "1612             cocky      1\n",
       "1613       transsexual      1\n",
       "1614        unfuckable      1\n",
       "1615        bestiality      1\n",
       "1616        cocklicker      1\n",
       "\n",
       "[3235 rows x 2 columns]"
      ]
     },
     "execution_count": 7,
     "metadata": {},
     "output_type": "execute_result"
    }
   ],
   "source": [
    "words"
   ]
  },
  {
   "cell_type": "code",
   "execution_count": null,
   "metadata": {},
   "outputs": [],
   "source": []
  }
 ],
 "metadata": {
  "kernelspec": {
   "display_name": "Python 3",
   "language": "python",
   "name": "python3"
  },
  "language_info": {
   "codemirror_mode": {
    "name": "ipython",
    "version": 3
   },
   "file_extension": ".py",
   "mimetype": "text/x-python",
   "name": "python",
   "nbconvert_exporter": "python",
   "pygments_lexer": "ipython3",
   "version": "3.8.10"
  },
  "orig_nbformat": 4,
  "vscode": {
   "interpreter": {
    "hash": "916dbcbb3f70747c44a77c7bcd40155683ae19c65e1c03b4aa3499c5328201f1"
   }
  }
 },
 "nbformat": 4,
 "nbformat_minor": 2
}
