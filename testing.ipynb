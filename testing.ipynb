{
 "cells": [
  {
   "cell_type": "code",
   "execution_count": 7,
   "metadata": {},
   "outputs": [
    {
     "name": "stderr",
     "output_type": "stream",
     "text": [
      "[nltk_data] Downloading package wordnet to /home/jj/nltk_data...\n",
      "[nltk_data]   Package wordnet is already up-to-date!\n",
      "[nltk_data] Downloading package omw to /home/jj/nltk_data...\n",
      "[nltk_data]   Package omw is already up-to-date!\n",
      "[nltk_data] Downloading package omw-1.4 to /home/jj/nltk_data...\n",
      "[nltk_data]   Package omw-1.4 is already up-to-date!\n"
     ]
    }
   ],
   "source": [
    "from sklearn.feature_extraction.text import TfidfVectorizer\n",
    "import numpy as np\n",
    "import re\n",
    "from tqdm import tqdm\n",
    "import pandas as pd\n",
    "from nltk.corpus import wordnet\n",
    "import nltk\n",
    "nltk.download('wordnet')\n",
    "nltk.download('omw')\n",
    "nltk.download('omw-1.4')\n",
    "\n",
    "from search import tfidf_search\n",
    "from search import wn_search\n",
    "from search import content_generator\n"
   ]
  },
  {
   "cell_type": "code",
   "execution_count": 9,
   "metadata": {},
   "outputs": [
    {
     "name": "stdout",
     "output_type": "stream",
     "text": [
      "[]\n",
      "[Synset('duck.n.01'), Synset('drake.n.02'), Synset('duck.n.03')]\n",
      "['duck.n.01', 'drake.n.02', 'duck.n.03']\n",
      "['small wild or domesticated web-footed broad-billed swimming bird usually having a depressed body and short legs', 'adult male of a wild or domestic duck', 'flesh of a duck (domestic or wild)']\n",
      "[]\n",
      "https://phytokeys.pensoft.net/\n",
      "[\"PhytoKeys\\n\\n\\n\\n\\n\\n\\n\\n\\n\\n\\n\\n\\n\\n\\n\\n\\n\\n\\n\\n\\n\\n\\n\\n\\n\\n\\n\\n\\n\\n\\n\\n\\n\\n\\n\\n\\n\\n\\n\\n\\n\\n\\n\\n\\n\\n\\n\\n\\n\\n\\n\\n\\n\\n\\n\\n\\n\\n\\n\\n\\nAbout PensoftBooksJournalsNews & BlogContact\\n\\n\\n\\nRegister |\\n\\t\\t\\t\\t\\t\\t\\tLogin\\n\\n\\n\\n\\n\\n\\n\\n\\n\\n\\n\\n\\n\\n\\n\\n\\n\\n\\n\\n\\n\\n\\n\\xa0\\n\\n\\n\\nFull Text\\n\\n\\n\\nAuthor\\n\\n\\n\\nTitle\\n\\n\\n\\n\\n\\n\\n\\nSubmit manuscript\\n\\n\\n\\n\\n\\n\\n\\n\\n\\n\\n\\n\\n\\nAbout\\n\\n\\n\\n\\t\\t\\t\\t\\t\\t\\t\\t\\t\\t\\t\\tArticles\\n\\t\\t\\t\\t\\t\\t\\t\\t\\t\\t\\t\\n\\n\\n\\nIssues\\n\\n\\n\\nTopical collections\\n\\nAuthor Guidelines\\nEditorial Team\\n\\nContacts\\n\\n\\n\\n\\n\\n\\n\\n\\n\\n\\n\\n\\n\\n\\n\\n\\n\\n\\n\\n\\n\\n\\nMost Visited Papers\\n\\n\\n\\n\\n\\nHighly Accessed Papers\\n\\n\\n\\n\\n\\nMost Active Editors\\n\\n\\n\\n\\n\\nMost Active Reviewers\\n\\n\\n\\n\\n\\nMost Productive Authors\\n\\n\\n\\nEMAIL ALERT\\n\\n\\n\\n\\n\\n\\n\\n\\n\\n\\n\\n\\n\\n\\n\\n\\n\\n\\n\\n\\n\\n\\n\\n\\n\\n\\n\\n\\n\\n\\n\\n\\n\\n\\n\\n\\n\\n\\n\\n\\n\\n\\n\\nTweets by @PhytoKeys\\n\\n\\n\\n\\n\\n\\t\\t\\t\\t\\t\\t\\t\\tThis work is licensed under the Creative Commons Attribution License (CC BY 4.0)\\n\\n\\n\\n\\n\\n\\n\\n\\n\\nLatest\\nHighly accessed\\n\\n\\n\\n\\n\\n\\n\\n\\ufeffTaxonomic status and nomenclature of Cephalotaxus lanceolata ( ...\\n\\n\\n\\n\\n\\n\\n\\n\\n\\n\\ufeffContributions to Ecuadorian butterworts (Lentibulariaceae, P ...\\n\\n\\n\\n\\n\\n\\n\\n\\n\\n\\ufeffAspidistra daibuensis var. longkiauensis, a new variety of A ...\\n\\n\\n\\n\\n\\n\\n\\n\\n\\n\\ufeffEighteen new species of Neotropical Costaceae (Zingiberales)\\n\\n\\n\\n\\n\\n\\n\\n\\n\\n\\ufeffHoya spectatissima (Gentianales, Apocynaceae), a new species f ...\\n\\n\\n\\n\\n\\n\\n\\n\\n\\n\\ufeffNumerical analyses of seed morphology and its taxonomic significance i ...\\n\\n\\n\\n\\n\\n\\n\\n\\n\\n\\ufeffResurrection of Leucobryum scalare Müll.Hal. ex M.Fleisch. (B ...\\n\\n\\n\\n\\n\\n\\n\\n\\n\\n\\ufeffA new species of Hoya R.Br. (Apocynaceae, Asclepiadoideae) f ...\\n\\n\\n\\n\\n\\n\\n\\n\\n\\n\\ufeffLithocarpus dahuensis (Fagaceae), a new species from Fujian P ...\\n\\n\\n\\n\\n\\n\\n\\n\\n\\n\\n\\n\\ufeffDisintegration of the genus Prosopis L. (Leguminosae, Caesalpinioideae, m ...\\n\\n\\n\\n\\n\\n\\n\\n\\n\\n\\ufeffMonograph of wild and cultivated chili peppers (Capsicum L., S ...\\n\\n\\n\\n\\n\\n\\n\\n\\n\\n\\ufeffFirst record of functional underground traps in a pitcher p ...\\n\\n\\n\\n\\n\\n\\n\\n\\n\\nThe medicinal plants of Myanmar\\n\\n\\n\\n\\n\\n\\n\\n\\n\\n\\ufeffSolanum scalarium (Solanaceae), a newly-described dioecious b ...\\n\\n\\n\\n\\n\\n\\n\\n\\n\\n\\ufeffA monograph of the genus Polylepis (Rosaceae)\\n\\n\\n\\n\\n\\n\\n\\n\\n\\nA classification of endangered high-THC cannabis (Cannabis sativa ...\\n\\n\\n\\n\\n\\n\\n\\n\\n\\nWorld checklist of hornworts and liverworts\\n\\n\\n\\n\\n\\n\\n\\n\\n\\nA foundation monograph of Ipomoea (Convolvulaceae) in the New ...\\n\\n\\n\\n\\n\\n\\n\\n\\nBLOG POSTS\\n\\n\\n\\n\\n\\n\\n\\n\\nDon Quixote gives his name to a new plant species only known from La Mancha, Spain\\n“In the present biodiversity crisis scenario, it is critical that we do not neglect basic scientific disciplines like taxonomy, since cataloguing biodiversity is a fundamental step towards its preservation.”\\n\\n\\n\\n\\n\\n\\n\\n\\n\\n\\nTwo striking new species of carnivorous plants discovered in the Andes of Ecuador\\nThe two new species of butterworts were discovered in poorly explored, remote areas in the Amotape-Huancabamba zone, a biodiversity hotspot in southern Ecuador.\\n\\n\\n\\n\\n\\n\\n\\n\\n\\n\\nInteroperable biodiversity data extracted from literature through open-ended queries\\nOpenBiodiv is a biodiversity database containing knowledge extracted from scientific literature, built as an Open Biodiversity Knowledge Management System.\\xa0\\n\\n\\n\\n\\n\\n\\n\\n\\nPhytoKeys is a peer-reviewed, open access, rapidly published journal, launched to accelerate research and free information exchange in taxonomy, phylogeny, biogeography and evolution of plants. The journal applies cutting-edge technologies in publishing and preservation of digital materials to meet the highest possible standards of the cybertaxonomy era.\\nPhytoKeys publishes papers in systematic Botany containing taxonomic/floristic data on any taxon of any geological age from any part of the world on the following topics: descriptions of new taxa, taxonomic revisions of extant and fossil plant groups, checklists and catalogues, phylogenetic and evolutionary analyses, papers in descriptive and/or historical biogeography, methodology papers, monographs, etc. Extensive floristic overviews on a group in a country or larger region are welcome. Short floristic contributions may be considered if they are based on significant or unexpected discovery.\\n Journal Impact Factor: 1.317Q ValuesQ3:Plant sciencesScopus CiteScore 2021: 2.1Q ValuesQ2:Ecology, Evolution, Behavior and SystematicsQ2:Plant ScienceQ2:Agricultural and Biological Sciences (miscellaneous)CiteScoreTracker 2022: 2.2 (updated monthly)\\n\\n\\n\\nBecome Editor\\n\\n\\n\\n\\nBecome Reviewer\\n\\n\\n\\n\\nEdit a Special Issue\\n\\n\\n\\n\\nPost your news\\n\\n\\n\\nPublication types: Research Papers, Review Papers, Forum Papers, Data Papers, Software Descriptions, Editorials, Short Communications, Correspondences, Corrigenda, Monographs\\nArchived: PubMedCentral, CLOCKSS, Zenodo, Portico, Europe PMC\\n\\n\\nIndexed: Web of Science (SCIE), Web of Science (Current Contents), Web of Science (BIOSIS Prev.), Web of Science (Biol. Abstr.), Scopus, DOAJ , AGRICOLA, AGRIS, Altmetric, ASOS Indeks, Baidu Scholar, BASE, BHL Citebank, British Library, Cabell's Directory, CABI (CAB Abstracts), ChronosHub, CNKI, CNPIEC, CrossRef, Dimensions, EBSCO Essentials, EBSCOhost, eLibrary, EZB, GALE Academic OneFile, GoOA, Google Scholar, iDiscover (University of Cambridge), IPNI, JournalTOCs, LetPub, Library of Congress, LIVIVO, MIAR, NAVER, NAVIGA, Norwegian Register, OpenAIRE, OpenCitations, Ou-Publier?, ProQuest, ProQuest Central, ProQuest (Natural Science Collection), PubAg, PubMed/MEDLINE, QOAM (Quality Open Access Market), ReadCube, Research Gate, ROAD, Science Data Bank, ScienceOpen, Scilit, Semantic Scholar, Sherpa/Romeo, SJR Scimago, SOLO (Search Oxford Libraries Online), Transpose, Ulrichsweb™, Unpaywall, Vifabio, WanFang Data, Web of Science Researcher Profile (ex-Publons), WorldCat, ZDB\\n\\nISSN 1314-2003 (online) | ISSN 1314-2011 (print)\\n\\n\\n\\n\\nPowered by  \\n\\n\\n\\n\\n\\n\\n\\n\\n\\nABOUT PENSOFT\\n\\nCompany Profile\\nInnovations & Tools\\nOpen Access & APC Policies\\nTerms of Use\\nEditorial Policies\\n\\n\\n\\n\\n\\nPRODUCTS\\n\\nJournals\\nAdvanced Books\\nConventional Books\\nConference Abstracts\\nConference Proceedings\\n\\n\\n\\n\\n\\nSERVICES\\n\\nFor Authors\\nFor Journals\\nFor Books\\nFor Conferences\\nFor Organisations\\n\\n\\n\\n\\n\\nPROJECTS\\n\\nResearch Projects\\nServices\\nPartners\\nBrochure\\n\\n\\n\\n\\n\\nARPHA\\n\\nARPHA Publishing Platform\\nARPHA Manual\\nARPHA Pricing\\nWeb Services\\n\\n\\n\\n\\n\\nGET IN TOUCH\\n\\nContacts\\nPublishing Inquiry\\nMigrate Your Journal\\nOpen a New Journal\\n\\n\\n\\n\\n\\n\\n\\n\\n\\n\\n\\t\\t\\t\\t\\t\\t\\t\\tFollow PENSOFT\\n\\t\\t\\t\\t\\t\\t\\t\\t\\n\\n\\n\\n\\n\\n\\nBlog & News\\nSubscribe\\n\\nMedia Center\\n© Pensoft Publishers 2023\\n\\n\\n\\n\\n\\n\\n\\n\\n\\n\\nThis website uses cookies in order to improve your web experience. Read our Cookies Policy\\n\\n\\nOK\"]\n",
      "Model: \"model_8\"\n",
      "_________________________________________________________________\n",
      " Layer (type)                Output Shape              Param #   \n",
      "=================================================================\n",
      " input_5 (InputLayer)        [(None, 9)]               0         \n",
      "                                                                 \n",
      " embedding (Embedding)       (None, 9, 15)             75000     \n",
      "                                                                 \n",
      " lstm_4 (LSTM)               (None, 15)                1860      \n",
      "                                                                 \n",
      " dense_4 (Dense)             (None, 5000)              80000     \n",
      "                                                                 \n",
      " softmax_4 (Softmax)         (None, 5000)              0         \n",
      "                                                                 \n",
      "=================================================================\n",
      "Total params: 156,860\n",
      "Trainable params: 156,860\n",
      "Non-trainable params: 0\n",
      "_________________________________________________________________\n",
      "WARNING:tensorflow:5 out of the last 5 calls to <function PreprocessingLayer.make_adapt_function.<locals>.adapt_step at 0x7fdeac2218b0> triggered tf.function retracing. Tracing is expensive and the excessive number of tracings could be due to (1) creating @tf.function repeatedly in a loop, (2) passing tensors with different shapes, (3) passing Python objects instead of tensors. For (1), please define your @tf.function outside of the loop. For (2), @tf.function has reduce_retracing=True option that can avoid unnecessary retracing. For (3), please refer to https://www.tensorflow.org/guide/function#controlling_retracing and https://www.tensorflow.org/api_docs/python/tf/function for  more details.\n",
      "WARNING:tensorflow:5 out of the last 5 calls to <function Model.make_predict_function.<locals>.predict_function at 0x7fde9c710430> triggered tf.function retracing. Tracing is expensive and the excessive number of tracings could be due to (1) creating @tf.function repeatedly in a loop, (2) passing tensors with different shapes, (3) passing Python objects instead of tensors. For (1), please define your @tf.function outside of the loop. For (2), @tf.function has reduce_retracing=True option that can avoid unnecessary retracing. For (3), please refer to https://www.tensorflow.org/guide/function#controlling_retracing and https://www.tensorflow.org/api_docs/python/tf/function for  more details.\n",
      "1/1 [==============================] - 1s 592ms/step\n"
     ]
    },
    {
     "ename": "IndexError",
     "evalue": "list index out of range",
     "output_type": "error",
     "traceback": [
      "\u001b[0;31m---------------------------------------------------------------------------\u001b[0m",
      "\u001b[0;31mIndexError\u001b[0m                                Traceback (most recent call last)",
      "Cell \u001b[0;32mIn[9], line 2\u001b[0m\n\u001b[1;32m      1\u001b[0m \u001b[39mfrom\u001b[39;00m \u001b[39msearch\u001b[39;00m \u001b[39mimport\u001b[39;00m content_generator\n\u001b[0;32m----> 2\u001b[0m \u001b[39mprint\u001b[39m(content_generator(\u001b[39m\"\u001b[39;49m\u001b[39m!generate pato\u001b[39;49m\u001b[39m\"\u001b[39;49m))\n",
      "File \u001b[0;32m~/INSPER/6semestre/NLP/NLP_discordBot/search.py:228\u001b[0m, in \u001b[0;36mcontent_generator\u001b[0;34m(command)\u001b[0m\n\u001b[1;32m    226\u001b[0m idx \u001b[39m=\u001b[39m tf\u001b[39m.\u001b[39margmax(pred, axis\u001b[39m=\u001b[39m\u001b[39m1\u001b[39m)[\u001b[39m0\u001b[39m]\n\u001b[1;32m    227\u001b[0m idx \u001b[39m=\u001b[39m idx\u001b[39m.\u001b[39mnumpy() \u001b[39m-\u001b[39m \u001b[39m1\u001b[39m\n\u001b[0;32m--> 228\u001b[0m vectorize_layer \u001b[39m=\u001b[39m vectorize_layer\u001b[39m.\u001b[39;49mget_vocabulary()[idx]\n\u001b[1;32m    230\u001b[0m num_predictions \u001b[39m=\u001b[39m \u001b[39m10\u001b[39m\n\u001b[1;32m    231\u001b[0m temperature \u001b[39m=\u001b[39m \u001b[39m0.1\u001b[39m\n",
      "\u001b[0;31mIndexError\u001b[0m: list index out of range"
     ]
    }
   ],
   "source": [
    "from search import content_generator\n",
    "print(content_generator(\"!generate pato\"))"
   ]
  },
  {
   "cell_type": "code",
   "execution_count": 3,
   "metadata": {},
   "outputs": [],
   "source": [
    "\n"
   ]
  },
  {
   "cell_type": "code",
   "execution_count": 4,
   "metadata": {},
   "outputs": [
    {
     "name": "stderr",
     "output_type": "stream",
     "text": [
      "100%|██████████| 58465/58465 [02:53<00:00, 337.44it/s]\n"
     ]
    }
   ],
   "source": []
  },
  {
   "cell_type": "code",
   "execution_count": 5,
   "metadata": {},
   "outputs": [],
   "source": []
  },
  {
   "cell_type": "code",
   "execution_count": 7,
   "metadata": {},
   "outputs": [
    {
     "name": "stdout",
     "output_type": "stream",
     "text": [
      "[(0.5562452956285775, 173)]\n"
     ]
    },
    {
     "data": {
      "text/plain": [
       "'https://www.google.com/search?channel=fs&client=ubuntu&q=wikipedia+dubai'"
      ]
     },
     "execution_count": 7,
     "metadata": {},
     "output_type": "execute_result"
    }
   ],
   "source": []
  },
  {
   "cell_type": "code",
   "execution_count": 69,
   "metadata": {},
   "outputs": [],
   "source": [
    "\n"
   ]
  },
  {
   "cell_type": "code",
   "execution_count": 70,
   "metadata": {},
   "outputs": [
    {
     "name": "stdout",
     "output_type": "stream",
     "text": [
      "[Synset('duck.n.01'), Synset('drake.n.02'), Synset('duck.n.03')]\n",
      "['duck.n.01', 'drake.n.02', 'duck.n.03']\n",
      "['small wild or domesticated web-footed broad-billed swimming bird usually having a depressed body and short legs', 'adult male of a wild or domestic duck', 'flesh of a duck (domestic or wild)']\n",
      "[]\n",
      "https://species.wikimedia.org/wiki/Main_Page\n"
     ]
    },
    {
     "data": {
      "text/plain": [
       "'https://species.wikimedia.org/wiki/Main_Page'"
      ]
     },
     "execution_count": 70,
     "metadata": {},
     "output_type": "execute_result"
    }
   ],
   "source": []
  },
  {
   "cell_type": "code",
   "execution_count": null,
   "metadata": {},
   "outputs": [],
   "source": []
  }
 ],
 "metadata": {
  "kernelspec": {
   "display_name": "Python 3",
   "language": "python",
   "name": "python3"
  },
  "language_info": {
   "codemirror_mode": {
    "name": "ipython",
    "version": 3
   },
   "file_extension": ".py",
   "mimetype": "text/x-python",
   "name": "python",
   "nbconvert_exporter": "python",
   "pygments_lexer": "ipython3",
   "version": "3.8.10"
  },
  "orig_nbformat": 4,
  "vscode": {
   "interpreter": {
    "hash": "916dbcbb3f70747c44a77c7bcd40155683ae19c65e1c03b4aa3499c5328201f1"
   }
  }
 },
 "nbformat": 4,
 "nbformat_minor": 2
}
