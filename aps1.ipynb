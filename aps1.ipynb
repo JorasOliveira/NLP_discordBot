{
 "cells": [
  {
   "cell_type": "code",
   "execution_count": 6,
   "metadata": {},
   "outputs": [
    {
     "name": "stdout",
     "output_type": "stream",
     "text": [
      "token_test\n"
     ]
    }
   ],
   "source": [
    "import dcToken\n",
    "import discord\n",
    "\n",
    "\n",
    "print(dcToken.apiToken)"
   ]
  },
  {
   "cell_type": "code",
   "execution_count": null,
   "metadata": {},
   "outputs": [],
   "source": [
    "client = discord.Client()\n",
    "\n",
    "@client.event\n",
    "async def on_ready():\n",
    "    guild = discord.utils.get(client.guilds, name='A Cidade dos Robos')\n",
    "    channel = discord.utils.get(guild.text_channels, name='bot-fest')\n",
    "    await channel.send('O bot está online!')\n",
    "\n",
    "\n",
    "@client.event\n",
    "async def on_message(message):\n",
    "    if message.author == client.user:\n",
    "        return\n",
    "\n",
    "    if message.content.lower() == '!oi':\n",
    "        await message.channel.send('Olá!')\n",
    "\n",
    "    if message.content.lower() == '!source':\n",
    "            await message.channel.send('Meu codigo fonte esta em: ')\n",
    "\n",
    "    if message.content.lower() == '!author':\n",
    "            await message.channel.send('Meu autor eh o Joras, o email dele eh: jorascco@al.insper.edu.br')\n",
    "\n",
    "client.run(dcToken.apiToken)"
   ]
  }
 ],
 "metadata": {
  "kernelspec": {
   "display_name": "Python 3",
   "language": "python",
   "name": "python3"
  },
  "language_info": {
   "codemirror_mode": {
    "name": "ipython",
    "version": 3
   },
   "file_extension": ".py",
   "mimetype": "text/x-python",
   "name": "python",
   "nbconvert_exporter": "python",
   "pygments_lexer": "ipython3",
   "version": "3.8.10"
  },
  "orig_nbformat": 4,
  "vscode": {
   "interpreter": {
    "hash": "916dbcbb3f70747c44a77c7bcd40155683ae19c65e1c03b4aa3499c5328201f1"
   }
  }
 },
 "nbformat": 4,
 "nbformat_minor": 2
}
